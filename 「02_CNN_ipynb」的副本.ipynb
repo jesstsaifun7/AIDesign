{
  "nbformat": 4,
  "nbformat_minor": 0,
  "metadata": {
    "kernelspec": {
      "display_name": "Python 3",
      "language": "python",
      "name": "python3"
    },
    "language_info": {
      "codemirror_mode": {
        "name": "ipython",
        "version": 3
      },
      "file_extension": ".py",
      "mimetype": "text/x-python",
      "name": "python",
      "nbconvert_exporter": "python",
      "pygments_lexer": "ipython3",
      "version": "3.7.3"
    },
    "colab": {
      "name": "「02 CNN.ipynb」的副本",
      "provenance": []
    },
    "accelerator": "GPU",
    "widgets": {
      "application/vnd.jupyter.widget-state+json": {
        "78865fc0cc43430ba69a752b515a886b": {
          "model_module": "@jupyter-widgets/controls",
          "model_name": "VBoxModel",
          "state": {
            "_view_name": "VBoxView",
            "_dom_classes": [
              "widget-interact"
            ],
            "_model_name": "VBoxModel",
            "_view_module": "@jupyter-widgets/controls",
            "_model_module_version": "1.5.0",
            "_view_count": null,
            "_view_module_version": "1.5.0",
            "box_style": "",
            "layout": "IPY_MODEL_f90a8c950e824ed1a000f7422684715a",
            "_model_module": "@jupyter-widgets/controls",
            "children": [
              "IPY_MODEL_15a83eb16cc54a55b1af464e4e3ee524",
              "IPY_MODEL_129cf1f7879449738f026528687aa702",
              "IPY_MODEL_6f6064622fc4474aae3c105ddb5eaf0b"
            ]
          }
        },
        "f90a8c950e824ed1a000f7422684715a": {
          "model_module": "@jupyter-widgets/base",
          "model_name": "LayoutModel",
          "state": {
            "_view_name": "LayoutView",
            "grid_template_rows": null,
            "right": null,
            "justify_content": null,
            "_view_module": "@jupyter-widgets/base",
            "overflow": null,
            "_model_module_version": "1.2.0",
            "_view_count": null,
            "flex_flow": null,
            "width": null,
            "min_width": null,
            "border": null,
            "align_items": null,
            "bottom": null,
            "_model_module": "@jupyter-widgets/base",
            "top": null,
            "grid_column": null,
            "overflow_y": null,
            "overflow_x": null,
            "grid_auto_flow": null,
            "grid_area": null,
            "grid_template_columns": null,
            "flex": null,
            "_model_name": "LayoutModel",
            "justify_items": null,
            "grid_row": null,
            "max_height": null,
            "align_content": null,
            "visibility": null,
            "align_self": null,
            "height": null,
            "min_height": null,
            "padding": null,
            "grid_auto_rows": null,
            "grid_gap": null,
            "max_width": null,
            "order": null,
            "_view_module_version": "1.2.0",
            "grid_template_areas": null,
            "object_position": null,
            "object_fit": null,
            "grid_auto_columns": null,
            "margin": null,
            "display": null,
            "left": null
          }
        },
        "15a83eb16cc54a55b1af464e4e3ee524": {
          "model_module": "@jupyter-widgets/controls",
          "model_name": "IntSliderModel",
          "state": {
            "_view_name": "IntSliderView",
            "style": "IPY_MODEL_2f3bca7b34124351966877bbd10b1a0a",
            "_dom_classes": [],
            "description": "n",
            "step": 1,
            "_model_name": "IntSliderModel",
            "orientation": "horizontal",
            "max": 9999,
            "_view_module": "@jupyter-widgets/controls",
            "_model_module_version": "1.5.0",
            "value": 4999,
            "_view_count": null,
            "disabled": false,
            "_view_module_version": "1.5.0",
            "min": 0,
            "continuous_update": true,
            "readout_format": "d",
            "description_tooltip": null,
            "readout": true,
            "_model_module": "@jupyter-widgets/controls",
            "layout": "IPY_MODEL_3ed9211b2153497689efee70b57089e7"
          }
        },
        "129cf1f7879449738f026528687aa702": {
          "model_module": "@jupyter-widgets/controls",
          "model_name": "ButtonModel",
          "state": {
            "_view_name": "ButtonView",
            "style": "IPY_MODEL_bc9c6474c4a34a74a9c66d44684e1cd0",
            "_dom_classes": [],
            "description": "Run Interact",
            "_model_name": "ButtonModel",
            "button_style": "",
            "_view_module": "@jupyter-widgets/controls",
            "_model_module_version": "1.5.0",
            "tooltip": "",
            "_view_count": null,
            "disabled": false,
            "_view_module_version": "1.5.0",
            "layout": "IPY_MODEL_b55115297e41448c852b15180ec0a04d",
            "_model_module": "@jupyter-widgets/controls",
            "icon": ""
          }
        },
        "6f6064622fc4474aae3c105ddb5eaf0b": {
          "model_module": "@jupyter-widgets/output",
          "model_name": "OutputModel",
          "state": {
            "_view_name": "OutputView",
            "msg_id": "",
            "_dom_classes": [],
            "_model_name": "OutputModel",
            "outputs": [],
            "_view_module": "@jupyter-widgets/output",
            "_model_module_version": "1.0.0",
            "_view_count": null,
            "_view_module_version": "1.0.0",
            "layout": "IPY_MODEL_3ff12db3c2da43e5b013d130ff48a4ef",
            "_model_module": "@jupyter-widgets/output"
          }
        },
        "2f3bca7b34124351966877bbd10b1a0a": {
          "model_module": "@jupyter-widgets/controls",
          "model_name": "SliderStyleModel",
          "state": {
            "_view_name": "StyleView",
            "handle_color": null,
            "_model_name": "SliderStyleModel",
            "description_width": "",
            "_view_module": "@jupyter-widgets/base",
            "_model_module_version": "1.5.0",
            "_view_count": null,
            "_view_module_version": "1.2.0",
            "_model_module": "@jupyter-widgets/controls"
          }
        },
        "3ed9211b2153497689efee70b57089e7": {
          "model_module": "@jupyter-widgets/base",
          "model_name": "LayoutModel",
          "state": {
            "_view_name": "LayoutView",
            "grid_template_rows": null,
            "right": null,
            "justify_content": null,
            "_view_module": "@jupyter-widgets/base",
            "overflow": null,
            "_model_module_version": "1.2.0",
            "_view_count": null,
            "flex_flow": null,
            "width": null,
            "min_width": null,
            "border": null,
            "align_items": null,
            "bottom": null,
            "_model_module": "@jupyter-widgets/base",
            "top": null,
            "grid_column": null,
            "overflow_y": null,
            "overflow_x": null,
            "grid_auto_flow": null,
            "grid_area": null,
            "grid_template_columns": null,
            "flex": null,
            "_model_name": "LayoutModel",
            "justify_items": null,
            "grid_row": null,
            "max_height": null,
            "align_content": null,
            "visibility": null,
            "align_self": null,
            "height": null,
            "min_height": null,
            "padding": null,
            "grid_auto_rows": null,
            "grid_gap": null,
            "max_width": null,
            "order": null,
            "_view_module_version": "1.2.0",
            "grid_template_areas": null,
            "object_position": null,
            "object_fit": null,
            "grid_auto_columns": null,
            "margin": null,
            "display": null,
            "left": null
          }
        },
        "bc9c6474c4a34a74a9c66d44684e1cd0": {
          "model_module": "@jupyter-widgets/controls",
          "model_name": "ButtonStyleModel",
          "state": {
            "_view_name": "StyleView",
            "_model_name": "ButtonStyleModel",
            "_view_module": "@jupyter-widgets/base",
            "_model_module_version": "1.5.0",
            "_view_count": null,
            "button_color": null,
            "font_weight": "",
            "_view_module_version": "1.2.0",
            "_model_module": "@jupyter-widgets/controls"
          }
        },
        "b55115297e41448c852b15180ec0a04d": {
          "model_module": "@jupyter-widgets/base",
          "model_name": "LayoutModel",
          "state": {
            "_view_name": "LayoutView",
            "grid_template_rows": null,
            "right": null,
            "justify_content": null,
            "_view_module": "@jupyter-widgets/base",
            "overflow": null,
            "_model_module_version": "1.2.0",
            "_view_count": null,
            "flex_flow": null,
            "width": null,
            "min_width": null,
            "border": null,
            "align_items": null,
            "bottom": null,
            "_model_module": "@jupyter-widgets/base",
            "top": null,
            "grid_column": null,
            "overflow_y": null,
            "overflow_x": null,
            "grid_auto_flow": null,
            "grid_area": null,
            "grid_template_columns": null,
            "flex": null,
            "_model_name": "LayoutModel",
            "justify_items": null,
            "grid_row": null,
            "max_height": null,
            "align_content": null,
            "visibility": null,
            "align_self": null,
            "height": null,
            "min_height": null,
            "padding": null,
            "grid_auto_rows": null,
            "grid_gap": null,
            "max_width": null,
            "order": null,
            "_view_module_version": "1.2.0",
            "grid_template_areas": null,
            "object_position": null,
            "object_fit": null,
            "grid_auto_columns": null,
            "margin": null,
            "display": null,
            "left": null
          }
        },
        "3ff12db3c2da43e5b013d130ff48a4ef": {
          "model_module": "@jupyter-widgets/base",
          "model_name": "LayoutModel",
          "state": {
            "_view_name": "LayoutView",
            "grid_template_rows": null,
            "right": null,
            "justify_content": null,
            "_view_module": "@jupyter-widgets/base",
            "overflow": null,
            "_model_module_version": "1.2.0",
            "_view_count": null,
            "flex_flow": null,
            "width": null,
            "min_width": null,
            "border": null,
            "align_items": null,
            "bottom": null,
            "_model_module": "@jupyter-widgets/base",
            "top": null,
            "grid_column": null,
            "overflow_y": null,
            "overflow_x": null,
            "grid_auto_flow": null,
            "grid_area": null,
            "grid_template_columns": null,
            "flex": null,
            "_model_name": "LayoutModel",
            "justify_items": null,
            "grid_row": null,
            "max_height": null,
            "align_content": null,
            "visibility": null,
            "align_self": null,
            "height": null,
            "min_height": null,
            "padding": null,
            "grid_auto_rows": null,
            "grid_gap": null,
            "max_width": null,
            "order": null,
            "_view_module_version": "1.2.0",
            "grid_template_areas": null,
            "object_position": null,
            "object_fit": null,
            "grid_auto_columns": null,
            "margin": null,
            "display": null,
            "left": null
          }
        }
      }
    }
  },
  "cells": [
    {
      "cell_type": "code",
      "metadata": {
        "id": "WOZ2xXAiH2om"
      },
      "source": [
        "%matplotlib inline\n",
        "\n",
        "import numpy as np\n",
        "import matplotlib.pyplot as plt\n",
        "import pandas as pd"
      ],
      "execution_count": 112,
      "outputs": []
    },
    {
      "cell_type": "code",
      "metadata": {
        "id": "GdjMnQKCH2ot"
      },
      "source": [
        "from tensorflow.keras.utils import to_categorical\n",
        "from tensorflow.keras.models import Sequential\n",
        "from tensorflow.keras.layers import Conv2D, MaxPooling2D\n",
        "from tensorflow.keras.layers import Dense, Flatten\n",
        "from tensorflow.keras.optimizers import SGD"
      ],
      "execution_count": 113,
      "outputs": []
    },
    {
      "cell_type": "markdown",
      "metadata": {
        "id": "QmIQImPGH2oz"
      },
      "source": [
        "### 1. 讀入 MNSIT 數據集"
      ]
    },
    {
      "cell_type": "code",
      "metadata": {
        "id": "iSWZ7MGdH2o0"
      },
      "source": [
        "from tensorflow.keras.datasets import mnist"
      ],
      "execution_count": 114,
      "outputs": []
    },
    {
      "cell_type": "code",
      "metadata": {
        "id": "ErPYu5x3H2o3"
      },
      "source": [
        "(x_train, y_train), (x_test, y_test) = mnist.load_data()"
      ],
      "execution_count": 115,
      "outputs": []
    },
    {
      "cell_type": "markdown",
      "metadata": {
        "id": "R9ExBNr-H2o6"
      },
      "source": [
        "### 2. 資料整理"
      ]
    },
    {
      "cell_type": "markdown",
      "metadata": {
        "id": "yQ1r_fShH2o7"
      },
      "source": [
        "### Channel\n",
        "\n",
        "CNN 要注意一張圖有多少個 channel, 開始我們因為只有灰階, 所以只有一個 channel。因此我們要轉一下我們的資料格式:\n",
        "\n",
        "    (28,28) --> (28, 28, 1)"
      ]
    },
    {
      "cell_type": "code",
      "metadata": {
        "id": "gtZQJNa1H2o7"
      },
      "source": [
        "x_train = x_train.reshape(60000, 28, 28, 1) / 255"
      ],
      "execution_count": 116,
      "outputs": []
    },
    {
      "cell_type": "code",
      "metadata": {
        "id": "jtAQJxEPH2o-"
      },
      "source": [
        "x_test = x_test.reshape(10000, 28, 28, 1) / 255"
      ],
      "execution_count": 117,
      "outputs": []
    },
    {
      "cell_type": "code",
      "metadata": {
        "id": "EHtHwvZvH2pA"
      },
      "source": [
        "y_train = to_categorical(y_train, 10)\n",
        "y_test = to_categorical(y_test, 10)"
      ],
      "execution_count": 118,
      "outputs": []
    },
    {
      "cell_type": "markdown",
      "metadata": {
        "id": "RJdtm1pRH2pC"
      },
      "source": [
        "### 3. step 1: 打造函數學習機 (CNN)"
      ]
    },
    {
      "cell_type": "code",
      "metadata": {
        "id": "SeRfUDwBH2pD"
      },
      "source": [
        "model = Sequential()"
      ],
      "execution_count": 119,
      "outputs": []
    },
    {
      "cell_type": "code",
      "metadata": {
        "id": "ZyMxQMClH2pF"
      },
      "source": [
        "model.add(Conv2D(16, (5,5), padding='same',\n",
        "                input_shape=(28,28,1),\n",
        "                activation='relu'))"
      ],
      "execution_count": 120,
      "outputs": []
    },
    {
      "cell_type": "code",
      "metadata": {
        "id": "fjLVeZF6H2pH"
      },
      "source": [
        "model.add(MaxPooling2D(pool_size=(2,2)))"
      ],
      "execution_count": 121,
      "outputs": []
    },
    {
      "cell_type": "code",
      "metadata": {
        "id": "H11VcVTUH2pI"
      },
      "source": [
        "model.add(Conv2D(32, (5,5), padding='same',\n",
        "                activation='relu'))"
      ],
      "execution_count": 122,
      "outputs": []
    },
    {
      "cell_type": "code",
      "metadata": {
        "id": "uszt8Ss2H2pL"
      },
      "source": [
        "model.add(MaxPooling2D(pool_size=(2,2)))"
      ],
      "execution_count": 123,
      "outputs": []
    },
    {
      "cell_type": "code",
      "metadata": {
        "id": "AnSqA8QqH2pN"
      },
      "source": [
        "model.add(Conv2D(64, (5,5), padding='same',\n",
        "                activation='relu'))"
      ],
      "execution_count": 124,
      "outputs": []
    },
    {
      "cell_type": "code",
      "metadata": {
        "id": "Z5egZeUtH2pP"
      },
      "source": [
        "model.add(MaxPooling2D(pool_size=(2,2)))"
      ],
      "execution_count": 125,
      "outputs": []
    },
    {
      "cell_type": "code",
      "metadata": {
        "id": "-cQErj3yIE-0"
      },
      "source": [
        "model.add(Conv2D(128, (5,5), padding='same',\n",
        "                activation='relu'))"
      ],
      "execution_count": 126,
      "outputs": []
    },
    {
      "cell_type": "code",
      "metadata": {
        "id": "RrWFMDG6IHsw"
      },
      "source": [
        "model.add(MaxPooling2D(pool_size=(2,2)))"
      ],
      "execution_count": 127,
      "outputs": []
    },
    {
      "cell_type": "code",
      "metadata": {
        "id": "IjT7bTCCH2pQ"
      },
      "source": [
        "model.add(Flatten())"
      ],
      "execution_count": 128,
      "outputs": []
    },
    {
      "cell_type": "code",
      "metadata": {
        "id": "At7mYJUAH2pS"
      },
      "source": [
        "model.add(Dense(80, activation='relu'))"
      ],
      "execution_count": 129,
      "outputs": []
    },
    {
      "cell_type": "code",
      "metadata": {
        "id": "XD9LHXk0H2pT"
      },
      "source": [
        "model.add(Dense(10, activation='softmax'))"
      ],
      "execution_count": 130,
      "outputs": []
    },
    {
      "cell_type": "markdown",
      "metadata": {
        "id": "4iyWyuRwH2pV"
      },
      "source": [
        "#### 看一下我們的神經網路"
      ]
    },
    {
      "cell_type": "code",
      "metadata": {
        "id": "H5coRYWAH2pV",
        "outputId": "0c370d12-17dc-44ad-aca3-7e49ccbbdef8",
        "colab": {
          "base_uri": "https://localhost:8080/"
        }
      },
      "source": [
        "model.summary()"
      ],
      "execution_count": 131,
      "outputs": [
        {
          "output_type": "stream",
          "text": [
            "Model: \"sequential_5\"\n",
            "_________________________________________________________________\n",
            "Layer (type)                 Output Shape              Param #   \n",
            "=================================================================\n",
            "conv2d_20 (Conv2D)           (None, 28, 28, 16)        416       \n",
            "_________________________________________________________________\n",
            "max_pooling2d_19 (MaxPooling (None, 14, 14, 16)        0         \n",
            "_________________________________________________________________\n",
            "conv2d_21 (Conv2D)           (None, 14, 14, 32)        12832     \n",
            "_________________________________________________________________\n",
            "max_pooling2d_20 (MaxPooling (None, 7, 7, 32)          0         \n",
            "_________________________________________________________________\n",
            "conv2d_22 (Conv2D)           (None, 7, 7, 64)          51264     \n",
            "_________________________________________________________________\n",
            "max_pooling2d_21 (MaxPooling (None, 3, 3, 64)          0         \n",
            "_________________________________________________________________\n",
            "conv2d_23 (Conv2D)           (None, 3, 3, 128)         204928    \n",
            "_________________________________________________________________\n",
            "max_pooling2d_22 (MaxPooling (None, 1, 1, 128)         0         \n",
            "_________________________________________________________________\n",
            "flatten_3 (Flatten)          (None, 128)               0         \n",
            "_________________________________________________________________\n",
            "dense_14 (Dense)             (None, 80)                10320     \n",
            "_________________________________________________________________\n",
            "dense_15 (Dense)             (None, 10)                810       \n",
            "=================================================================\n",
            "Total params: 280,570\n",
            "Trainable params: 280,570\n",
            "Non-trainable params: 0\n",
            "_________________________________________________________________\n"
          ],
          "name": "stdout"
        }
      ]
    },
    {
      "cell_type": "markdown",
      "metadata": {
        "id": "NOduQ0wKH2pX"
      },
      "source": [
        "#### 組裝"
      ]
    },
    {
      "cell_type": "code",
      "metadata": {
        "id": "Tfk5qCruH2pX"
      },
      "source": [
        "model.compile(loss='mse', optimizer=SGD(lr=0.087),\n",
        "             metrics=['accuracy'])"
      ],
      "execution_count": 132,
      "outputs": []
    },
    {
      "cell_type": "markdown",
      "metadata": {
        "id": "v1flbwFXH2pY"
      },
      "source": [
        "### 4. step 2: fit"
      ]
    },
    {
      "cell_type": "code",
      "metadata": {
        "scrolled": true,
        "id": "ion8_tp5H2pZ",
        "outputId": "3291f365-a600-41b0-bf3d-2b7987528bdb",
        "colab": {
          "base_uri": "https://localhost:8080/"
        }
      },
      "source": [
        "model.fit(x_train, y_train, batch_size=128, epochs=12)"
      ],
      "execution_count": 133,
      "outputs": [
        {
          "output_type": "stream",
          "text": [
            "Epoch 1/12\n",
            "469/469 [==============================] - 6s 12ms/step - loss: 0.0899 - accuracy: 0.1629\n",
            "Epoch 2/12\n",
            "469/469 [==============================] - 5s 11ms/step - loss: 0.0898 - accuracy: 0.3116\n",
            "Epoch 3/12\n",
            "469/469 [==============================] - 5s 11ms/step - loss: 0.0894 - accuracy: 0.3460\n",
            "Epoch 4/12\n",
            "469/469 [==============================] - 5s 11ms/step - loss: 0.0884 - accuracy: 0.3416\n",
            "Epoch 5/12\n",
            "469/469 [==============================] - 5s 11ms/step - loss: 0.0755 - accuracy: 0.4390\n",
            "Epoch 6/12\n",
            "469/469 [==============================] - 5s 11ms/step - loss: 0.0351 - accuracy: 0.7617\n",
            "Epoch 7/12\n",
            "469/469 [==============================] - 5s 11ms/step - loss: 0.0190 - accuracy: 0.8769\n",
            "Epoch 8/12\n",
            "469/469 [==============================] - 5s 11ms/step - loss: 0.0138 - accuracy: 0.9110\n",
            "Epoch 9/12\n",
            "469/469 [==============================] - 5s 12ms/step - loss: 0.0108 - accuracy: 0.9313\n",
            "Epoch 10/12\n",
            "469/469 [==============================] - 5s 11ms/step - loss: 0.0091 - accuracy: 0.9424\n",
            "Epoch 11/12\n",
            "469/469 [==============================] - 6s 12ms/step - loss: 0.0078 - accuracy: 0.9504\n",
            "Epoch 12/12\n",
            "469/469 [==============================] - 6s 12ms/step - loss: 0.0069 - accuracy: 0.9569\n"
          ],
          "name": "stdout"
        },
        {
          "output_type": "execute_result",
          "data": {
            "text/plain": [
              "<tensorflow.python.keras.callbacks.History at 0x7f32ad86b550>"
            ]
          },
          "metadata": {
            "tags": []
          },
          "execution_count": 133
        }
      ]
    },
    {
      "cell_type": "markdown",
      "metadata": {
        "id": "_KO598v_H2pb"
      },
      "source": [
        "### Step 3. 預測"
      ]
    },
    {
      "cell_type": "code",
      "metadata": {
        "id": "0xSLpx3iH2pb"
      },
      "source": [
        "result = model.predict_classes(x_test)"
      ],
      "execution_count": 139,
      "outputs": []
    },
    {
      "cell_type": "markdown",
      "metadata": {
        "id": "H0nxAh2ZH2pc"
      },
      "source": [
        "### 看看測試資料表現如何"
      ]
    },
    {
      "cell_type": "code",
      "metadata": {
        "id": "aBZHLjbEH2pc",
        "outputId": "212067d0-88a5-4f93-b251-b55c5567834a",
        "colab": {
          "base_uri": "https://localhost:8080/"
        }
      },
      "source": [
        "loss, acc = model.evaluate(x_test, y_test)"
      ],
      "execution_count": 140,
      "outputs": [
        {
          "output_type": "stream",
          "text": [
            "313/313 [==============================] - 1s 3ms/step - loss: 0.0062 - accuracy: 0.9612\n"
          ],
          "name": "stdout"
        }
      ]
    },
    {
      "cell_type": "code",
      "metadata": {
        "id": "kyfNY4m2H2pe",
        "outputId": "75bb2f5b-511b-442c-9c38-e78e4cc07962",
        "colab": {
          "base_uri": "https://localhost:8080/"
        }
      },
      "source": [
        "print(f'測試資料的正確率為 {acc*100:.2f}%')"
      ],
      "execution_count": 141,
      "outputs": [
        {
          "output_type": "stream",
          "text": [
            "測試資料的正確率為 96.12%\n"
          ],
          "name": "stdout"
        }
      ]
    },
    {
      "cell_type": "code",
      "metadata": {
        "id": "RA3NXQEFH2pf"
      },
      "source": [
        "def my_predict(n):\n",
        "    print('我可愛的 CNN 預測是', result[n])\n",
        "    X = x_test[n].reshape(28,28)\n",
        "    plt.imshow(X, cmap='Greys')"
      ],
      "execution_count": 142,
      "outputs": []
    },
    {
      "cell_type": "code",
      "metadata": {
        "id": "Zl0lPPj9H2pg"
      },
      "source": [
        "from ipywidgets import interact_manual"
      ],
      "execution_count": 143,
      "outputs": []
    },
    {
      "cell_type": "code",
      "metadata": {
        "id": "i3cyzSs7H2ph",
        "outputId": "3c8e2163-3af2-45f6-9d12-642e720d32ea",
        "colab": {
          "base_uri": "https://localhost:8080/",
          "height": 81,
          "referenced_widgets": [
            "78865fc0cc43430ba69a752b515a886b",
            "f90a8c950e824ed1a000f7422684715a",
            "15a83eb16cc54a55b1af464e4e3ee524",
            "129cf1f7879449738f026528687aa702",
            "6f6064622fc4474aae3c105ddb5eaf0b",
            "2f3bca7b34124351966877bbd10b1a0a",
            "3ed9211b2153497689efee70b57089e7",
            "bc9c6474c4a34a74a9c66d44684e1cd0",
            "b55115297e41448c852b15180ec0a04d",
            "3ff12db3c2da43e5b013d130ff48a4ef"
          ]
        }
      },
      "source": [
        "interact_manual(my_predict, n=(0, 9999));"
      ],
      "execution_count": 144,
      "outputs": [
        {
          "output_type": "display_data",
          "data": {
            "application/vnd.jupyter.widget-view+json": {
              "model_id": "78865fc0cc43430ba69a752b515a886b",
              "version_minor": 0,
              "version_major": 2
            },
            "text/plain": [
              "interactive(children=(IntSlider(value=4999, description='n', max=9999), Button(description='Run Interact', sty…"
            ]
          },
          "metadata": {
            "tags": []
          }
        }
      ]
    },
    {
      "cell_type": "markdown",
      "metadata": {
        "id": "ifmD7ECpH2pj"
      },
      "source": [
        "### 把我們的 model 存起來"
      ]
    },
    {
      "cell_type": "code",
      "metadata": {
        "id": "9X1UnvnjH2pj"
      },
      "source": [
        "model.save('myCNNmodel.h5')"
      ],
      "execution_count": 145,
      "outputs": []
    }
  ]
}